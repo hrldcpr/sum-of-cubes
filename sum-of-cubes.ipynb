{
 "cells": [
  {
   "cell_type": "markdown",
   "metadata": {},
   "source": [
    "Rotations of the tetrahedron are all *even* permutations of its vertices.\n",
    "\n",
    "So if we index points in the tetrahedron by e.g. altitudinal distance from each vertex, then we can evenly permute these indices to find the rotated points."
   ]
  },
  {
   "cell_type": "code",
   "execution_count": 155,
   "metadata": {},
   "outputs": [],
   "source": [
    "def parity(xs):\n",
    "    # parity of the given permutation, relative to its sorted order\n",
    "    xs = list(xs) # copy\n",
    "    swaps = 0\n",
    "    for i in range(len(xs) - 1):\n",
    "        xi = xs[i]\n",
    "        xj, j = min((xs[k], k) for k in range(i+1, len(xs)))\n",
    "        if xi > xj: # swap\n",
    "            xs[i] = xj\n",
    "            xs[j] = xi\n",
    "            swaps += 1\n",
    "    return swaps\n",
    "\n",
    "def even_permutations(n):\n",
    "    # TODO for fun could also build from scratch instead of filtering,\n",
    "    # by somehow building all permutations using swaps, but only saving the even ones\n",
    "    return [x for x in it.permutations(range(n)) if parity(x) % 2 == 0]"
   ]
  },
  {
   "cell_type": "code",
   "execution_count": 156,
   "metadata": {},
   "outputs": [],
   "source": [
    "def T(n, a, b, c, d):\n",
    "    # value at a given integer point in our tetrahedron\n",
    "    # given altitudes from the four faces of the tetrahedron.\n",
    "    # all that matters is the altitude from the bottom, since each slice parallel to the bottom is uniform\n",
    "    return n - a"
   ]
  },
  {
   "cell_type": "code",
   "execution_count": 157,
   "metadata": {},
   "outputs": [],
   "source": [
    "import itertools as it\n",
    "\n",
    "def altitudes(n):\n",
    "    # Viviani's theorem says that sum of altitudes is constant for regular polygons and polyhedra\n",
    "    # (specifically, for a tetrahedron at least the sum is just the height of the tetrahedron)\n",
    "    return [abcd for abcd in it.product(range(n), repeat=4) if sum(abcd) == n-1]"
   ]
  },
  {
   "cell_type": "code",
   "execution_count": 165,
   "metadata": {},
   "outputs": [
    {
     "name": "stdout",
     "output_type": "stream",
     "text": [
      "(0, 1, 2, 3) 0\n",
      "[5, 5, 5, 5, 5, 5, 5, 5, 5, 5, 5, 5, 5, 5, 5, 4, 4, 4, 4, 4, 4, 4, 4, 4, 4, 3, 3, 3, 3, 3, 3, 2, 2, 2, 1]\n",
      "\n",
      "(1, 0, 3, 2) 2\n",
      "[5, 5, 5, 5, 5, 4, 4, 4, 4, 3, 3, 3, 2, 2, 1, 5, 5, 5, 5, 4, 4, 4, 3, 3, 2, 5, 5, 5, 4, 4, 3, 5, 5, 4, 5]\n",
      "\n",
      "(2, 0, 1, 3) 2\n",
      "[5, 4, 3, 2, 1, 5, 4, 3, 2, 5, 4, 3, 5, 4, 5, 5, 4, 3, 2, 5, 4, 3, 5, 4, 5, 5, 4, 3, 5, 4, 5, 5, 4, 5, 5]\n",
      "\n",
      "(3, 0, 2, 1) 2\n",
      "[1, 2, 3, 4, 5, 2, 3, 4, 5, 3, 4, 5, 4, 5, 5, 2, 3, 4, 5, 3, 4, 5, 4, 5, 5, 3, 4, 5, 4, 5, 5, 4, 5, 5, 5]\n",
      "\n",
      "[16, 16, 16, 16, 16, 16, 16, 16, 16, 16, 16, 16, 16, 16, 16, 16, 16, 16, 16, 16, 16, 16, 16, 16, 16, 16, 16, 16, 16, 16, 16, 16, 16, 16, 16]\n"
     ]
    }
   ],
   "source": [
    "N = 5\n",
    "abcds0 = altitudes(N)\n",
    "sums = [0 for _ in abcds0]\n",
    "for p in even_permutations(4)[::3]:\n",
    "    abcds = [[abcd0[p[i]] for i in range(4)] for abcd0 in abcds0]\n",
    "    t = [T(N, *abcd) for abcd in abcds]\n",
    "    for i, x in enumerate(t): sums[i] += x\n",
    "    print(p, parity(p))\n",
    "    print(t)\n",
    "    print()\n",
    "print(sums)"
   ]
  },
  {
   "cell_type": "code",
   "execution_count": 131,
   "metadata": {},
   "outputs": [
    {
     "data": {
      "text/plain": [
       "[(0, 1, 2, 3),\n",
       " (0, 2, 3, 1),\n",
       " (0, 3, 1, 2),\n",
       " (1, 0, 3, 2),\n",
       " (1, 2, 0, 3),\n",
       " (1, 3, 2, 0),\n",
       " (2, 0, 1, 3),\n",
       " (2, 1, 3, 0),\n",
       " (2, 3, 0, 1),\n",
       " (3, 0, 2, 1),\n",
       " (3, 1, 0, 2),\n",
       " (3, 2, 1, 0)]"
      ]
     },
     "execution_count": 131,
     "metadata": {},
     "output_type": "execute_result"
    }
   ],
   "source": [
    "even_permutations(4)"
   ]
  },
  {
   "cell_type": "markdown",
   "metadata": {},
   "source": [
    "## Octahedra"
   ]
  },
  {
   "cell_type": "code",
   "execution_count": null,
   "metadata": {},
   "outputs": [],
   "source": [
    "def O(n, a, b, c):\n",
    "    # value at a given integer point in our octahedron\n",
    "    # given altitudes from the three faces of the tetrahedron.\n",
    "    # all that matters is the altitude from the bottom, since each slice parallel to the bottom is uniform\n",
    "    return n - a"
   ]
  }
 ],
 "metadata": {
  "kernelspec": {
   "display_name": "Python 3",
   "language": "python",
   "name": "python3"
  },
  "language_info": {
   "codemirror_mode": {
    "name": "ipython",
    "version": 3
   },
   "file_extension": ".py",
   "mimetype": "text/x-python",
   "name": "python",
   "nbconvert_exporter": "python",
   "pygments_lexer": "ipython3",
   "version": "3.8.5"
  }
 },
 "nbformat": 4,
 "nbformat_minor": 4
}
